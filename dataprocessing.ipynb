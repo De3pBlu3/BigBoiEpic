{
 "cells": [
  {
   "cell_type": "code",
   "execution_count": 2,
   "id": "initial_id",
   "metadata": {
    "collapsed": true,
    "ExecuteTime": {
     "end_time": "2024-03-05T16:21:57.207224700Z",
     "start_time": "2024-03-05T16:21:57.181191600Z"
    }
   },
   "outputs": [],
   "source": [
    "import numpy as np\n",
    "import pandas as pd\n",
    "from tqdm import tqdm"
   ]
  },
  {
   "cell_type": "code",
   "execution_count": 93,
   "outputs": [
    {
     "data": {
      "text/plain": "device_fraud_count\n0    1000000\nName: count, dtype: int64"
     },
     "execution_count": 93,
     "metadata": {},
     "output_type": "execute_result"
    }
   ],
   "source": [
    "    # with open('data/LI-Small_Trans.csv', 'r') as file:\n",
    "Cov = pd.read_csv(\"data/Base.csv\", \n",
    "                  sep=',')\n",
    "Cov[\"device_fraud_count\"].max()\n"
   ],
   "metadata": {
    "collapsed": false,
    "ExecuteTime": {
     "end_time": "2024-03-05T17:16:39.331017900Z",
     "start_time": "2024-03-05T17:16:37.363287100Z"
    }
   },
   "id": "2b132c55bbf48b6"
  },
  {
   "cell_type": "code",
   "execution_count": 4,
   "outputs": [
    {
     "data": {
      "text/plain": "   fraud_bool  income  name_email_similarity  prev_address_months_count  \\\n0           0     0.3               0.986506                         -1   \n1           0     0.8               0.617426                         -1   \n2           0     0.8               0.996707                          9   \n3           0     0.6               0.475100                         11   \n4           0     0.9               0.842307                         -1   \n\n   current_address_months_count  customer_age  days_since_request  \\\n0                            25            40            0.006735   \n1                            89            20            0.010095   \n2                            14            40            0.012316   \n3                            14            30            0.006991   \n4                            29            40            5.742626   \n\n   intended_balcon_amount payment_type  zip_count_4w  ...  has_other_cards  \\\n0              102.453711           AA          1059  ...                0   \n1               -0.849551           AD          1658  ...                0   \n2               -1.490386           AB          1095  ...                0   \n3               -1.863101           AB          3483  ...                0   \n4               47.152498           AA          2339  ...                0   \n\n   proposed_credit_limit  foreign_request    source  \\\n0                 1500.0                0  INTERNET   \n1                 1500.0                0  INTERNET   \n2                  200.0                0  INTERNET   \n3                  200.0                0  INTERNET   \n4                  200.0                0  INTERNET   \n\n   session_length_in_minutes device_os  keep_alive_session  \\\n0                  16.224843     linux                   1   \n1                   3.363854     other                   1   \n2                  22.730559   windows                   0   \n3                  15.215816     linux                   1   \n4                   3.743048     other                   0   \n\n   device_distinct_emails_8w device_fraud_count  month  \n0                          1                  0      0  \n1                          1                  0      0  \n2                          1                  0      0  \n3                          1                  0      0  \n4                          1                  0      0  \n\n[5 rows x 32 columns]",
      "text/html": "<div>\n<style scoped>\n    .dataframe tbody tr th:only-of-type {\n        vertical-align: middle;\n    }\n\n    .dataframe tbody tr th {\n        vertical-align: top;\n    }\n\n    .dataframe thead th {\n        text-align: right;\n    }\n</style>\n<table border=\"1\" class=\"dataframe\">\n  <thead>\n    <tr style=\"text-align: right;\">\n      <th></th>\n      <th>fraud_bool</th>\n      <th>income</th>\n      <th>name_email_similarity</th>\n      <th>prev_address_months_count</th>\n      <th>current_address_months_count</th>\n      <th>customer_age</th>\n      <th>days_since_request</th>\n      <th>intended_balcon_amount</th>\n      <th>payment_type</th>\n      <th>zip_count_4w</th>\n      <th>...</th>\n      <th>has_other_cards</th>\n      <th>proposed_credit_limit</th>\n      <th>foreign_request</th>\n      <th>source</th>\n      <th>session_length_in_minutes</th>\n      <th>device_os</th>\n      <th>keep_alive_session</th>\n      <th>device_distinct_emails_8w</th>\n      <th>device_fraud_count</th>\n      <th>month</th>\n    </tr>\n  </thead>\n  <tbody>\n    <tr>\n      <th>0</th>\n      <td>0</td>\n      <td>0.3</td>\n      <td>0.986506</td>\n      <td>-1</td>\n      <td>25</td>\n      <td>40</td>\n      <td>0.006735</td>\n      <td>102.453711</td>\n      <td>AA</td>\n      <td>1059</td>\n      <td>...</td>\n      <td>0</td>\n      <td>1500.0</td>\n      <td>0</td>\n      <td>INTERNET</td>\n      <td>16.224843</td>\n      <td>linux</td>\n      <td>1</td>\n      <td>1</td>\n      <td>0</td>\n      <td>0</td>\n    </tr>\n    <tr>\n      <th>1</th>\n      <td>0</td>\n      <td>0.8</td>\n      <td>0.617426</td>\n      <td>-1</td>\n      <td>89</td>\n      <td>20</td>\n      <td>0.010095</td>\n      <td>-0.849551</td>\n      <td>AD</td>\n      <td>1658</td>\n      <td>...</td>\n      <td>0</td>\n      <td>1500.0</td>\n      <td>0</td>\n      <td>INTERNET</td>\n      <td>3.363854</td>\n      <td>other</td>\n      <td>1</td>\n      <td>1</td>\n      <td>0</td>\n      <td>0</td>\n    </tr>\n    <tr>\n      <th>2</th>\n      <td>0</td>\n      <td>0.8</td>\n      <td>0.996707</td>\n      <td>9</td>\n      <td>14</td>\n      <td>40</td>\n      <td>0.012316</td>\n      <td>-1.490386</td>\n      <td>AB</td>\n      <td>1095</td>\n      <td>...</td>\n      <td>0</td>\n      <td>200.0</td>\n      <td>0</td>\n      <td>INTERNET</td>\n      <td>22.730559</td>\n      <td>windows</td>\n      <td>0</td>\n      <td>1</td>\n      <td>0</td>\n      <td>0</td>\n    </tr>\n    <tr>\n      <th>3</th>\n      <td>0</td>\n      <td>0.6</td>\n      <td>0.475100</td>\n      <td>11</td>\n      <td>14</td>\n      <td>30</td>\n      <td>0.006991</td>\n      <td>-1.863101</td>\n      <td>AB</td>\n      <td>3483</td>\n      <td>...</td>\n      <td>0</td>\n      <td>200.0</td>\n      <td>0</td>\n      <td>INTERNET</td>\n      <td>15.215816</td>\n      <td>linux</td>\n      <td>1</td>\n      <td>1</td>\n      <td>0</td>\n      <td>0</td>\n    </tr>\n    <tr>\n      <th>4</th>\n      <td>0</td>\n      <td>0.9</td>\n      <td>0.842307</td>\n      <td>-1</td>\n      <td>29</td>\n      <td>40</td>\n      <td>5.742626</td>\n      <td>47.152498</td>\n      <td>AA</td>\n      <td>2339</td>\n      <td>...</td>\n      <td>0</td>\n      <td>200.0</td>\n      <td>0</td>\n      <td>INTERNET</td>\n      <td>3.743048</td>\n      <td>other</td>\n      <td>0</td>\n      <td>1</td>\n      <td>0</td>\n      <td>0</td>\n    </tr>\n  </tbody>\n</table>\n<p>5 rows × 32 columns</p>\n</div>"
     },
     "execution_count": 4,
     "metadata": {},
     "output_type": "execute_result"
    }
   ],
   "source": [
    "Cov.head()"
   ],
   "metadata": {
    "collapsed": false,
    "ExecuteTime": {
     "end_time": "2024-03-05T16:22:00.048468800Z",
     "start_time": "2024-03-05T16:22:00.002474200Z"
    }
   },
   "id": "40354ce5adbade03"
  },
  {
   "cell_type": "code",
   "execution_count": 5,
   "outputs": [],
   "source": [
    "# this will almost definitely be s h i t but i wanna see if i can find the laundering transactions by just applying a basic DNN classification model to the data\n",
    "# drop the first row\n",
    "\n",
    "\n",
    "# split Cov into data and target\n",
    "target = Cov[\"fraud_bool\"]\n",
    "data = Cov.drop(columns=[\"fraud_bool\"])"
   ],
   "metadata": {
    "collapsed": false,
    "ExecuteTime": {
     "end_time": "2024-03-05T16:22:00.555467900Z",
     "start_time": "2024-03-05T16:22:00.464474700Z"
    }
   },
   "id": "b33adbe5a63b7b0c"
  },
  {
   "cell_type": "code",
   "execution_count": 11,
   "outputs": [
    {
     "name": "stdout",
     "output_type": "stream",
     "text": [
      "5\n",
      "Index(['payment_type', 'employment_status', 'housing_status', 'source',\n",
      "       'device_os'],\n",
      "      dtype='object')\n",
      "26\n",
      "Index(['income', 'name_email_similarity', 'prev_address_months_count',\n",
      "       'current_address_months_count', 'customer_age', 'days_since_request',\n",
      "       'intended_balcon_amount', 'zip_count_4w', 'velocity_6h', 'velocity_24h',\n",
      "       'velocity_4w', 'bank_branch_count_8w',\n",
      "       'date_of_birth_distinct_emails_4w', 'credit_risk_score',\n",
      "       'email_is_free', 'phone_home_valid', 'phone_mobile_valid',\n",
      "       'bank_months_count', 'has_other_cards', 'proposed_credit_limit',\n",
      "       'foreign_request', 'session_length_in_minutes', 'keep_alive_session',\n",
      "       'device_distinct_emails_8w', 'device_fraud_count', 'month'],\n",
      "      dtype='object')\n"
     ]
    }
   ],
   "source": [
    "# get all columns that are not numeric\n",
    "non_numeric_columns = data.select_dtypes(exclude=[np.number]).columns\n",
    "\n",
    "# print the number of non-numeric columns\n",
    "print(len(non_numeric_columns))\n",
    "print(non_numeric_columns)\n",
    "\n",
    "# get all columns that are numeric\n",
    "numeric_columns = data.select_dtypes(include=[np.number]).columns\n",
    "\n",
    "# print the number of numeric columns\n",
    "print(len(numeric_columns))\n",
    "print(numeric_columns)\n"
   ],
   "metadata": {
    "collapsed": false,
    "ExecuteTime": {
     "end_time": "2024-03-05T16:26:14.410020700Z",
     "start_time": "2024-03-05T16:26:14.302899100Z"
    }
   },
   "id": "4aa2b304e46dd93e"
  },
  {
   "cell_type": "code",
   "execution_count": 44,
   "outputs": [],
   "source": [
    "from sklearn.preprocessing import StandardScaler\n",
    "\n",
    "# Create a scaler\n",
    "scaler = StandardScaler()\n",
    "\n",
    "for col in numeric_columns:\n",
    "    data[col] = data[col].astype('float32')\n",
    " \n",
    " \n",
    "# Fit the scaler to the training data and transform both training and test data\n",
    "data_scaled = scaler.fit_transform(data[numeric_columns])\n",
    "\n",
    "# Replace the original columns with the scaled ones\n",
    "data[numeric_columns] = data_scaled"
   ],
   "metadata": {
    "collapsed": false,
    "ExecuteTime": {
     "end_time": "2024-03-05T16:46:43.234042200Z",
     "start_time": "2024-03-05T16:46:42.629285900Z"
    }
   },
   "id": "bbe4fb4da5b2bb8"
  },
  {
   "cell_type": "code",
   "execution_count": 45,
   "outputs": [],
   "source": [
    "from sklearn.preprocessing import OrdinalEncoder\n",
    "\n",
    "# Create the encoder\n",
    "encoder = OrdinalEncoder(handle_unknown='use_encoded_value', unknown_value=-1)\n",
    "\n",
    "# Fit the encoder to the non-numeric columns\n",
    "categorical_columns = non_numeric_columns\n",
    "\n",
    "encoder.fit(data[categorical_columns])\n",
    "\n",
    "# Transform both the training and test data\n",
    "encoded_data = encoder.transform(data[categorical_columns])"
   ],
   "metadata": {
    "collapsed": false,
    "ExecuteTime": {
     "end_time": "2024-03-05T16:46:43.657050400Z",
     "start_time": "2024-03-05T16:46:43.237044Z"
    }
   },
   "id": "f677077a3d1a1b99"
  },
  {
   "cell_type": "code",
   "execution_count": 46,
   "outputs": [],
   "source": [
    "# replace the original columns with the encoded ones\n",
    "data[categorical_columns] = encoded_data"
   ],
   "metadata": {
    "collapsed": false,
    "ExecuteTime": {
     "end_time": "2024-03-05T16:46:44.514424500Z",
     "start_time": "2024-03-05T16:46:44.479382400Z"
    }
   },
   "id": "3412806e83736319"
  },
  {
   "cell_type": "code",
   "execution_count": 47,
   "outputs": [],
   "source": [
    "from sklearn.model_selection import train_test_split\n",
    "\n",
    "X_train, X_test, y_train, y_test = train_test_split(data, target , test_size=0.6)\n",
    "X_valid, X_test, y_valid, y_test = train_test_split(X_test, y_test, test_size=0.5)"
   ],
   "metadata": {
    "collapsed": false,
    "ExecuteTime": {
     "end_time": "2024-03-05T16:46:45.480379600Z",
     "start_time": "2024-03-05T16:46:45.012415Z"
    }
   },
   "id": "2eb7b11454e80ac0"
  },
  {
   "cell_type": "code",
   "execution_count": 48,
   "outputs": [],
   "source": [
    "# now we can create a DNN model\n",
    "import tensorflow as tf\n",
    "from tensorflow import keras\n",
    "from tensorflow.keras import layers\n",
    "from tensorflow.keras.models import Model\n",
    "from tensorflow.keras.layers import Input, Dense\n",
    "\n",
    "# Create the input layer\n",
    "inputs = Input(shape=(31,))\n",
    "# Create the first hidden layer\n",
    "x = Dense(50, activation='relu')(inputs)\n",
    "# Create the second hidden layer\n",
    "x = Dense(50, activation='relu')(x)\n",
    "# Create the output layer\n",
    "outputs = Dense(1, activation='sigmoid')(x)\n",
    "\n",
    "# Create a model\n",
    "model = Model(inputs=inputs, outputs=outputs)"
   ],
   "metadata": {
    "collapsed": false,
    "ExecuteTime": {
     "end_time": "2024-03-05T16:46:46.109243400Z",
     "start_time": "2024-03-05T16:46:46.072244Z"
    }
   },
   "id": "395e3c8e69cd6580"
  },
  {
   "cell_type": "code",
   "execution_count": 73,
   "outputs": [],
   "source": [
    "SaS = keras.metrics.SpecificityAtSensitivity(0.05)\n",
    "AUC = keras.metrics.AUC()"
   ],
   "metadata": {
    "collapsed": false,
    "ExecuteTime": {
     "end_time": "2024-03-05T17:04:03.890819500Z",
     "start_time": "2024-03-05T17:04:03.862513300Z"
    }
   },
   "id": "ba2e9608d4b4b42a"
  },
  {
   "cell_type": "code",
   "execution_count": 74,
   "outputs": [],
   "source": [
    "# Compile the model\n",
    "model.compile(optimizer='adam', loss='binary_crossentropy', metrics=[SaS])"
   ],
   "metadata": {
    "collapsed": false,
    "ExecuteTime": {
     "end_time": "2024-03-05T17:04:04.370972700Z",
     "start_time": "2024-03-05T17:04:04.358752900Z"
    }
   },
   "id": "4df71461443d2169"
  },
  {
   "cell_type": "code",
   "execution_count": 75,
   "outputs": [
    {
     "name": "stdout",
     "output_type": "stream",
     "text": [
      "Epoch 1/5\n",
      "12500/12500 [==============================] - 28s 2ms/step - loss: 0.0454 - specificity_at_sensitivity_2: 0.9994 - val_loss: 0.0488 - val_specificity_at_sensitivity_2: 0.9989\n",
      "Epoch 2/5\n",
      "12500/12500 [==============================] - 42s 3ms/step - loss: 0.0451 - specificity_at_sensitivity_2: 0.9994 - val_loss: 0.0484 - val_specificity_at_sensitivity_2: 0.9989\n",
      "Epoch 3/5\n",
      "12500/12500 [==============================] - 37s 3ms/step - loss: 0.0450 - specificity_at_sensitivity_2: 0.9994 - val_loss: 0.0488 - val_specificity_at_sensitivity_2: 0.9990\n",
      "Epoch 4/5\n",
      "12500/12500 [==============================] - 39s 3ms/step - loss: 0.0449 - specificity_at_sensitivity_2: 0.9995 - val_loss: 0.0484 - val_specificity_at_sensitivity_2: 0.9988\n",
      "Epoch 5/5\n",
      "12500/12500 [==============================] - 40s 3ms/step - loss: 0.0447 - specificity_at_sensitivity_2: 0.9995 - val_loss: 0.0486 - val_specificity_at_sensitivity_2: 0.9988\n"
     ]
    }
   ],
   "source": [
    "# Fit the model\n",
    "history = model.fit(X_train, y_train, validation_data=(X_test, y_test), epochs=5)"
   ],
   "metadata": {
    "collapsed": false,
    "ExecuteTime": {
     "end_time": "2024-03-05T17:07:09.938410600Z",
     "start_time": "2024-03-05T17:04:04.370972700Z"
    }
   },
   "id": "fba33f5e8be3610"
  },
  {
   "cell_type": "code",
   "execution_count": 76,
   "outputs": [
    {
     "name": "stdout",
     "output_type": "stream",
     "text": [
      "9375/9375 [==============================] - 14s 2ms/step - loss: 0.0478 - specificity_at_sensitivity_2: 0.9992\n"
     ]
    },
    {
     "data": {
      "text/plain": "[0.0478225015103817, 0.9991844296455383]"
     },
     "execution_count": 76,
     "metadata": {},
     "output_type": "execute_result"
    }
   ],
   "source": [
    "# Evaluate the model\n",
    "model.evaluate(X_valid, y_valid)"
   ],
   "metadata": {
    "collapsed": false,
    "ExecuteTime": {
     "end_time": "2024-03-05T17:07:42.790785100Z",
     "start_time": "2024-03-05T17:07:28.546988800Z"
    }
   },
   "id": "929a31aad83d7106"
  },
  {
   "cell_type": "code",
   "execution_count": 77,
   "outputs": [
    {
     "name": "stdout",
     "output_type": "stream",
     "text": [
      "9375/9375 [==============================] - 14s 1ms/step\n",
      "[[296678     44]\n",
      " [  3224     54]]\n"
     ]
    }
   ],
   "source": [
    "# confusion matrix\n",
    "from sklearn.metrics import confusion_matrix\n",
    "\n",
    "y_pred = model.predict(X_valid)\n",
    "y_pred = (y_pred > 0.5)\n",
    "cm = confusion_matrix(y_valid, y_pred)\n",
    "print(cm) \n",
    "# output @ 5 epochs using AUC:\n",
    "# [[296593     33]\n",
    "#  [  3343     31]]\n",
    "\n",
    "# output @ 5 epochs using SpecificityAtSensitivity(0.5) and AUC:\n",
    "# [[296714      8]\n",
    "#  [  3267     11]]\n",
    "\n",
    "# output @ 5 epochs using SpecificityAtSensitivity(0.5):\n",
    "# [[296719      3]\n",
    "#  [  3270      8]]\n",
    "\n",
    "# output @ 5 epochs using SpecificityAtSensitivity(0.2):\n",
    "# [[296668     54]\n",
    "#  [  3222     56]]\n",
    "\n",
    "# Lower specificity, higher sensitivity? \n",
    "# "
   ],
   "metadata": {
    "collapsed": false,
    "ExecuteTime": {
     "end_time": "2024-03-05T17:07:59.351535200Z",
     "start_time": "2024-03-05T17:07:43.611505300Z"
    }
   },
   "id": "f91a913aecdbba33"
  },
  {
   "cell_type": "code",
   "execution_count": 87,
   "outputs": [
    {
     "data": {
      "text/plain": "device_fraud_count\n0    1000000\nName: count, dtype: int64"
     },
     "execution_count": 87,
     "metadata": {},
     "output_type": "execute_result"
    }
   ],
   "source": [
    "Cov[\"device_fraud_count\"].value_counts()"
   ],
   "metadata": {
    "collapsed": false,
    "ExecuteTime": {
     "end_time": "2024-03-05T17:15:51.121538500Z",
     "start_time": "2024-03-05T17:15:51.101301400Z"
    }
   },
   "id": "e60ea7f2738be99c"
  },
  {
   "cell_type": "code",
   "execution_count": null,
   "outputs": [],
   "source": [],
   "metadata": {
    "collapsed": false
   },
   "id": "8909d8c3b7fbfdfe"
  }
 ],
 "metadata": {
  "kernelspec": {
   "display_name": "Python 3",
   "language": "python",
   "name": "python3"
  },
  "language_info": {
   "codemirror_mode": {
    "name": "ipython",
    "version": 2
   },
   "file_extension": ".py",
   "mimetype": "text/x-python",
   "name": "python",
   "nbconvert_exporter": "python",
   "pygments_lexer": "ipython2",
   "version": "2.7.6"
  }
 },
 "nbformat": 4,
 "nbformat_minor": 5
}
